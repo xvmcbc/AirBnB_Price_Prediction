{
 "cells": [
  {
   "cell_type": "code",
   "execution_count": 48,
   "metadata": {},
   "outputs": [],
   "source": [
    "import pandas as pd\n",
    "import numpy as np\n",
    "import pickle\n",
    "from sklearn.preprocessing import StandardScaler\n",
    "from sklearn.externals import joblib"
   ]
  },
  {
   "cell_type": "code",
   "execution_count": 49,
   "metadata": {},
   "outputs": [],
   "source": [
    "#Importa el modelo entrenado del archivo\n",
    "modelo_regresion = pickle.load(open('Regressor_model_cut.sav', 'rb'))"
   ]
  },
  {
   "cell_type": "code",
   "execution_count": 50,
   "metadata": {},
   "outputs": [],
   "source": [
    "#Creacion dataframe para variables\n",
    "data_X = pd.read_csv('X_temp.csv')"
   ]
  },
  {
   "cell_type": "code",
   "execution_count": 52,
   "metadata": {},
   "outputs": [],
   "source": [
    "#Valore de ejemplo\n",
    "accommodates = 5\n",
    "tv = 1\n",
    "pool = 1\n",
    "room_type = \"room_type_Shared room\"\n",
    "neighbourhood = \"neighbourhood_b_Escandon\"\n",
    "cancellation_policy = \"cancellation_policy_strict\""
   ]
  },
  {
   "cell_type": "code",
   "execution_count": 53,
   "metadata": {},
   "outputs": [],
   "source": [
    "#Modificacion de features X\n",
    "data_X['accommodates'] = data_X['accommodates'].replace(0, accommodates)\n",
    "data_X['Cable TV/TV'] = data_X['Cable TV/TV'].replace(0, tv)\n",
    "data_X['Hot tub/jetted tub/private hot tub/sauna/shared hot tub/pool/private pool/shared pool'] = data_X['Hot tub/jetted tub/private hot tub/sauna/shared hot tub/pool/private pool/shared pool'].replace(0, pool)"
   ]
  },
  {
   "cell_type": "code",
   "execution_count": 54,
   "metadata": {},
   "outputs": [],
   "source": [
    "#Modificacion de features X\n",
    "data_X[room_type] = data_X[room_type].replace(0, 1)\n",
    "data_X[neighbourhood] = data_X[neighbourhood].replace(0, 1)\n",
    "data_X[cancellation_policy] = data_X[cancellation_policy].replace(0, 1)"
   ]
  },
  {
   "cell_type": "code",
   "execution_count": 55,
   "metadata": {
    "scrolled": true
   },
   "outputs": [
    {
     "data": {
      "text/html": [
       "<div>\n",
       "<style scoped>\n",
       "    .dataframe tbody tr th:only-of-type {\n",
       "        vertical-align: middle;\n",
       "    }\n",
       "\n",
       "    .dataframe tbody tr th {\n",
       "        vertical-align: top;\n",
       "    }\n",
       "\n",
       "    .dataframe thead th {\n",
       "        text-align: right;\n",
       "    }\n",
       "</style>\n",
       "<table border=\"1\" class=\"dataframe\">\n",
       "  <thead>\n",
       "    <tr style=\"text-align: right;\">\n",
       "      <th></th>\n",
       "      <th>accommodates</th>\n",
       "      <th>Cable TV/TV</th>\n",
       "      <th>Hot tub/jetted tub/private hot tub/sauna/shared hot tub/pool/private pool/shared pool</th>\n",
       "      <th>neighbourhood_b_Acacias</th>\n",
       "      <th>neighbourhood_b_Alamos</th>\n",
       "      <th>neighbourhood_b_Americas Unidas</th>\n",
       "      <th>neighbourhood_b_Anzures</th>\n",
       "      <th>neighbourhood_b_Asturias</th>\n",
       "      <th>neighbourhood_b_Atlampa</th>\n",
       "      <th>neighbourhood_b_Bosque de las Lomas</th>\n",
       "      <th>...</th>\n",
       "      <th>neighbourhood_b_Transito</th>\n",
       "      <th>neighbourhood_b_Vertiz Narvarte</th>\n",
       "      <th>neighbourhood_b_Vista Alegre</th>\n",
       "      <th>neighbourhood_b_Xoco</th>\n",
       "      <th>neighbourhood_b_Zona Rosa</th>\n",
       "      <th>room_type_Entire home/apt</th>\n",
       "      <th>room_type_Shared room</th>\n",
       "      <th>cancellation_policy_flexible</th>\n",
       "      <th>cancellation_policy_moderate</th>\n",
       "      <th>cancellation_policy_strict</th>\n",
       "    </tr>\n",
       "  </thead>\n",
       "  <tbody>\n",
       "    <tr>\n",
       "      <th>0</th>\n",
       "      <td>5</td>\n",
       "      <td>1</td>\n",
       "      <td>1</td>\n",
       "      <td>0</td>\n",
       "      <td>0</td>\n",
       "      <td>0</td>\n",
       "      <td>0</td>\n",
       "      <td>0</td>\n",
       "      <td>0</td>\n",
       "      <td>0</td>\n",
       "      <td>...</td>\n",
       "      <td>0</td>\n",
       "      <td>0</td>\n",
       "      <td>0</td>\n",
       "      <td>0</td>\n",
       "      <td>0</td>\n",
       "      <td>0</td>\n",
       "      <td>1</td>\n",
       "      <td>0</td>\n",
       "      <td>0</td>\n",
       "      <td>1</td>\n",
       "    </tr>\n",
       "  </tbody>\n",
       "</table>\n",
       "<p>1 rows × 64 columns</p>\n",
       "</div>"
      ],
      "text/plain": [
       "   accommodates  Cable TV/TV  \\\n",
       "0             5            1   \n",
       "\n",
       "   Hot tub/jetted tub/private hot tub/sauna/shared hot tub/pool/private pool/shared pool  \\\n",
       "0                                                  1                                       \n",
       "\n",
       "   neighbourhood_b_Acacias  neighbourhood_b_Alamos  \\\n",
       "0                        0                       0   \n",
       "\n",
       "   neighbourhood_b_Americas Unidas  neighbourhood_b_Anzures  \\\n",
       "0                                0                        0   \n",
       "\n",
       "   neighbourhood_b_Asturias  neighbourhood_b_Atlampa  \\\n",
       "0                         0                        0   \n",
       "\n",
       "   neighbourhood_b_Bosque de las Lomas  ...  neighbourhood_b_Transito  \\\n",
       "0                                    0  ...                         0   \n",
       "\n",
       "   neighbourhood_b_Vertiz Narvarte  neighbourhood_b_Vista Alegre  \\\n",
       "0                                0                             0   \n",
       "\n",
       "   neighbourhood_b_Xoco  neighbourhood_b_Zona Rosa  room_type_Entire home/apt  \\\n",
       "0                     0                          0                          0   \n",
       "\n",
       "   room_type_Shared room  cancellation_policy_flexible  \\\n",
       "0                      1                             0   \n",
       "\n",
       "   cancellation_policy_moderate  cancellation_policy_strict  \n",
       "0                             0                           1  \n",
       "\n",
       "[1 rows x 64 columns]"
      ]
     },
     "execution_count": 55,
     "metadata": {},
     "output_type": "execute_result"
    }
   ],
   "source": [
    "data_X.head()"
   ]
  },
  {
   "cell_type": "code",
   "execution_count": 56,
   "metadata": {},
   "outputs": [],
   "source": [
    "#Extracting only numerical data\n",
    "numerical_columns = ['accommodates']\n",
    "\n",
    "# Log transforming columns\n",
    "for col in numerical_columns:\n",
    "    data_X[col] = data_X[col].astype('float64').replace(0.0, 0.01) # Replacing 0s with 0.01\n",
    "    data_X[col] = np.log(data_X[col])"
   ]
  },
  {
   "cell_type": "code",
   "execution_count": 57,
   "metadata": {
    "scrolled": true
   },
   "outputs": [
    {
     "data": {
      "text/html": [
       "<div>\n",
       "<style scoped>\n",
       "    .dataframe tbody tr th:only-of-type {\n",
       "        vertical-align: middle;\n",
       "    }\n",
       "\n",
       "    .dataframe tbody tr th {\n",
       "        vertical-align: top;\n",
       "    }\n",
       "\n",
       "    .dataframe thead th {\n",
       "        text-align: right;\n",
       "    }\n",
       "</style>\n",
       "<table border=\"1\" class=\"dataframe\">\n",
       "  <thead>\n",
       "    <tr style=\"text-align: right;\">\n",
       "      <th></th>\n",
       "      <th>accommodates</th>\n",
       "      <th>Cable TV/TV</th>\n",
       "      <th>Hot tub/jetted tub/private hot tub/sauna/shared hot tub/pool/private pool/shared pool</th>\n",
       "      <th>neighbourhood_b_Acacias</th>\n",
       "      <th>neighbourhood_b_Alamos</th>\n",
       "      <th>neighbourhood_b_Americas Unidas</th>\n",
       "      <th>neighbourhood_b_Anzures</th>\n",
       "      <th>neighbourhood_b_Asturias</th>\n",
       "      <th>neighbourhood_b_Atlampa</th>\n",
       "      <th>neighbourhood_b_Bosque de las Lomas</th>\n",
       "      <th>...</th>\n",
       "      <th>neighbourhood_b_Transito</th>\n",
       "      <th>neighbourhood_b_Vertiz Narvarte</th>\n",
       "      <th>neighbourhood_b_Vista Alegre</th>\n",
       "      <th>neighbourhood_b_Xoco</th>\n",
       "      <th>neighbourhood_b_Zona Rosa</th>\n",
       "      <th>room_type_Entire home/apt</th>\n",
       "      <th>room_type_Shared room</th>\n",
       "      <th>cancellation_policy_flexible</th>\n",
       "      <th>cancellation_policy_moderate</th>\n",
       "      <th>cancellation_policy_strict</th>\n",
       "    </tr>\n",
       "  </thead>\n",
       "  <tbody>\n",
       "    <tr>\n",
       "      <th>0</th>\n",
       "      <td>1.609438</td>\n",
       "      <td>1</td>\n",
       "      <td>1</td>\n",
       "      <td>0</td>\n",
       "      <td>0</td>\n",
       "      <td>0</td>\n",
       "      <td>0</td>\n",
       "      <td>0</td>\n",
       "      <td>0</td>\n",
       "      <td>0</td>\n",
       "      <td>...</td>\n",
       "      <td>0</td>\n",
       "      <td>0</td>\n",
       "      <td>0</td>\n",
       "      <td>0</td>\n",
       "      <td>0</td>\n",
       "      <td>0</td>\n",
       "      <td>1</td>\n",
       "      <td>0</td>\n",
       "      <td>0</td>\n",
       "      <td>1</td>\n",
       "    </tr>\n",
       "  </tbody>\n",
       "</table>\n",
       "<p>1 rows × 64 columns</p>\n",
       "</div>"
      ],
      "text/plain": [
       "   accommodates  Cable TV/TV  \\\n",
       "0      1.609438            1   \n",
       "\n",
       "   Hot tub/jetted tub/private hot tub/sauna/shared hot tub/pool/private pool/shared pool  \\\n",
       "0                                                  1                                       \n",
       "\n",
       "   neighbourhood_b_Acacias  neighbourhood_b_Alamos  \\\n",
       "0                        0                       0   \n",
       "\n",
       "   neighbourhood_b_Americas Unidas  neighbourhood_b_Anzures  \\\n",
       "0                                0                        0   \n",
       "\n",
       "   neighbourhood_b_Asturias  neighbourhood_b_Atlampa  \\\n",
       "0                         0                        0   \n",
       "\n",
       "   neighbourhood_b_Bosque de las Lomas  ...  neighbourhood_b_Transito  \\\n",
       "0                                    0  ...                         0   \n",
       "\n",
       "   neighbourhood_b_Vertiz Narvarte  neighbourhood_b_Vista Alegre  \\\n",
       "0                                0                             0   \n",
       "\n",
       "   neighbourhood_b_Xoco  neighbourhood_b_Zona Rosa  room_type_Entire home/apt  \\\n",
       "0                     0                          0                          0   \n",
       "\n",
       "   room_type_Shared room  cancellation_policy_flexible  \\\n",
       "0                      1                             0   \n",
       "\n",
       "   cancellation_policy_moderate  cancellation_policy_strict  \n",
       "0                             0                           1  \n",
       "\n",
       "[1 rows x 64 columns]"
      ]
     },
     "execution_count": 57,
     "metadata": {},
     "output_type": "execute_result"
    }
   ],
   "source": [
    "data_X.head()"
   ]
  },
  {
   "cell_type": "code",
   "execution_count": 58,
   "metadata": {},
   "outputs": [],
   "source": [
    "# Scaling Data\n",
    "#Using scaler from the model\n",
    "scaler = joblib.load('scaler.pkl') \n",
    "\n",
    "X = np.array(data_X)\n",
    "data_X = scaler.transform(X.reshape(1, -1))"
   ]
  },
  {
   "cell_type": "code",
   "execution_count": 59,
   "metadata": {},
   "outputs": [
    {
     "data": {
      "text/plain": [
       "array([6.4742142])"
      ]
     },
     "execution_count": 59,
     "metadata": {},
     "output_type": "execute_result"
    }
   ],
   "source": [
    "#Para usarlo:\n",
    "y_load_predit=modelo_regresion.predict(data_X)\n",
    "y_load_predit"
   ]
  },
  {
   "cell_type": "code",
   "execution_count": 60,
   "metadata": {},
   "outputs": [],
   "source": [
    "prediccion = np.exp(y_load_predit)"
   ]
  },
  {
   "cell_type": "code",
   "execution_count": 61,
   "metadata": {},
   "outputs": [
    {
     "data": {
      "text/plain": [
       "648.0"
      ]
     },
     "execution_count": 61,
     "metadata": {},
     "output_type": "execute_result"
    }
   ],
   "source": [
    "round(prediccion[0])"
   ]
  }
 ],
 "metadata": {
  "kernelspec": {
   "display_name": "Python 3",
   "language": "python",
   "name": "python3"
  },
  "language_info": {
   "codemirror_mode": {
    "name": "ipython",
    "version": 3
   },
   "file_extension": ".py",
   "mimetype": "text/x-python",
   "name": "python",
   "nbconvert_exporter": "python",
   "pygments_lexer": "ipython3",
   "version": "3.7.3"
  }
 },
 "nbformat": 4,
 "nbformat_minor": 2
}
